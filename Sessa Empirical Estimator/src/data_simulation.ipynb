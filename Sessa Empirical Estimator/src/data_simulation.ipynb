{
 "cells": [
  {
   "cell_type": "markdown",
   "id": "bacf4c8e-b64c-4e0e-8e8e-f67143bd3d87",
   "metadata": {},
   "source": [
    "## **Data Simulation**  \n",
    "### *By Jyreneah Angel and Nicole Grace Joligon* "
   ]
  },
  {
   "cell_type": "markdown",
   "id": "e48b299c-db63-4ad2-8424-6b1a67e25dc7",
   "metadata": {},
   "source": [
    "## **IMPORT LIBRARIES**"
   ]
  },
  {
   "cell_type": "code",
   "execution_count": null,
   "id": "33054cc4-daa1-431c-85e0-97471e924bfb",
   "metadata": {},
   "outputs": [],
   "source": [
    "import numpy as np\n",
    "import pandas as pd"
   ]
  },
  {
   "cell_type": "markdown",
   "id": "f31b743d-f8bb-4ddb-9528-0f232a62f6e1",
   "metadata": {},
   "source": [
    "## **FUNCTION DEFINITION**"
   ]
  },
  {
   "cell_type": "code",
   "execution_count": 41,
   "id": "83d1b0aa-50b0-4279-ab30-97e1fcb836eb",
   "metadata": {},
   "outputs": [],
   "source": [
    "def simulate_refill_history(n_individuals=1000, obs_period=720):\n",
    "    # Define group probabilities (e.g., groups 1 and 6 are 10% each)\n",
    "    group_probs = [0.1, 0.2, 0.2, 0.2, 0.2, 0.1]\n",
    "    groups = np.random.choice(np.arange(1,7), size=n_individuals, p=group_probs)\n",
    "\n",
    "    data_list = []\n",
    "    for i in range(n_individuals):\n",
    "        group = groups[i]\n",
    "        refill_dates = [0]  # start at day 0\n",
    "        current_day = 0\n",
    "\n",
    "        while current_day < obs_period:\n",
    "            refill_duration = np.random.choice([30, 60, 90])\n",
    "\n",
    "            # Group-specific behavior\n",
    "            if group == 3:\n",
    "                extra_delay = np.random.randint(0, 11) * len(refill_dates)\n",
    "            elif group == 2:\n",
    "                extra_delay = np.random.randint(0, 21)\n",
    "            elif group == 6 and len(refill_dates) > 1:\n",
    "                # Non-persistence: stop after the first refill\n",
    "                break\n",
    "            else:\n",
    "                extra_delay = 0\n",
    "\n",
    "            current_day += refill_duration + extra_delay\n",
    "            if current_day <= obs_period:\n",
    "                refill_dates.append(current_day)\n",
    "            else:\n",
    "                break\n",
    "\n",
    "        # Create a DataFrame for this individual\n",
    "        individual_df = pd.DataFrame({\n",
    "            'individual': i+1,\n",
    "            'group': group,\n",
    "            'refill_date': refill_dates\n",
    "        })\n",
    "        individual_df['refill_duration'] = individual_df['refill_date'].diff()\n",
    "        data_list.append(individual_df)\n",
    "\n",
    "    simulated_data = pd.concat(data_list, ignore_index=True)\n",
    "    return simulated_data"
   ]
  },
  {
   "cell_type": "markdown",
   "id": "79a74d33-71c5-48e1-88e5-348e08db5bf4",
   "metadata": {},
   "source": [
    "## Purpose\n",
    "The goal of this simulation is to simulate refill histories for a population of individuals over a specific observation period. This can be useful for analyzing refill patterns, group behaviors, or persistence in medication adherence.\n",
    "\n",
    "## Input Parameters\n",
    "- **n_individuals = 1000**: The number of individuals to simulate in the study.\n",
    "- **obs_period = 720**: The observation period in days (e.g., 720 days).\n",
    "\n",
    "## Simulation Process\n",
    "\n",
    "### 1. Group Assignment\n",
    "- Each individual is assigned to one of six groups based on specified probabilities.\n",
    "  - Group probabilities are as follows:\n",
    "    - Groups 1 and 6 have 10% probability each.\n",
    "    - Groups 2, 3, 4, and 5 have 20% probability each.\n",
    "\n",
    "### 2. Refill Dates\n",
    "- For each individual:\n",
    "  - Refill history starts at day 0.\n",
    "  - Refill durations are chosen randomly from 30, 60, or 90 days.\n",
    "  \n",
    "### 3. Group-Specific Behavior\n",
    "  - **Group 3**: Extra delay is added based on the number of refills.\n",
    "  - **Group 2**: Random extra delay is added (ranging from 0 to 20 days).\n",
    "  - **Group 6**: Only one refill is allowed, simulating non-persistence in medication adherence.\n",
    "\n",
    "### 4. Refill Days Calculation\n",
    "  - Refill days are calculated by adding refill durations and any group-specific delays, and the process continues until the observation period ends.\n",
    "\n",
    "## Output\n",
    "The output is a DataFrame containing:\n",
    "- **individual**: The individual ID.\n",
    "- **group**: The group to which the individual belongs.\n",
    "- **refill_date**: The dates when the individual refilled.\n",
    "- **refill_duration**: The time between consecutive refills.\n",
    "\n",
    "## Use Case\n",
    "This simulated data could be used to analyze refill patterns, group behaviors, or persistence in medication adherence.\n"
   ]
  },
  {
   "cell_type": "markdown",
   "id": "a2e09b41-74ac-4ea4-97ff-439abbc20991",
   "metadata": {},
   "source": [
    "## **GENERATING SIMULATED DATA**"
   ]
  },
  {
   "cell_type": "code",
   "execution_count": 60,
   "id": "dfe36dca-cc12-438b-b645-0890c8adec3f",
   "metadata": {},
   "outputs": [
    {
     "data": {
      "text/html": [
       "<div>\n",
       "<style scoped>\n",
       "    .dataframe tbody tr th:only-of-type {\n",
       "        vertical-align: middle;\n",
       "    }\n",
       "\n",
       "    .dataframe tbody tr th {\n",
       "        vertical-align: top;\n",
       "    }\n",
       "\n",
       "    .dataframe thead th {\n",
       "        text-align: right;\n",
       "    }\n",
       "</style>\n",
       "<table border=\"1\" class=\"dataframe\">\n",
       "  <thead>\n",
       "    <tr style=\"text-align: right;\">\n",
       "      <th></th>\n",
       "      <th>individual</th>\n",
       "      <th>group</th>\n",
       "      <th>refill_date</th>\n",
       "      <th>refill_duration</th>\n",
       "    </tr>\n",
       "  </thead>\n",
       "  <tbody>\n",
       "    <tr>\n",
       "      <th>10625</th>\n",
       "      <td>1000</td>\n",
       "      <td>3</td>\n",
       "      <td>377</td>\n",
       "      <td>60.0</td>\n",
       "    </tr>\n",
       "    <tr>\n",
       "      <th>10626</th>\n",
       "      <td>1000</td>\n",
       "      <td>3</td>\n",
       "      <td>419</td>\n",
       "      <td>42.0</td>\n",
       "    </tr>\n",
       "    <tr>\n",
       "      <th>10627</th>\n",
       "      <td>1000</td>\n",
       "      <td>3</td>\n",
       "      <td>477</td>\n",
       "      <td>58.0</td>\n",
       "    </tr>\n",
       "    <tr>\n",
       "      <th>10628</th>\n",
       "      <td>1000</td>\n",
       "      <td>3</td>\n",
       "      <td>531</td>\n",
       "      <td>54.0</td>\n",
       "    </tr>\n",
       "    <tr>\n",
       "      <th>10629</th>\n",
       "      <td>1000</td>\n",
       "      <td>3</td>\n",
       "      <td>624</td>\n",
       "      <td>93.0</td>\n",
       "    </tr>\n",
       "  </tbody>\n",
       "</table>\n",
       "</div>"
      ],
      "text/plain": [
       "       individual  group  refill_date  refill_duration\n",
       "10625        1000      3          377             60.0\n",
       "10626        1000      3          419             42.0\n",
       "10627        1000      3          477             58.0\n",
       "10628        1000      3          531             54.0\n",
       "10629        1000      3          624             93.0"
      ]
     },
     "execution_count": 60,
     "metadata": {},
     "output_type": "execute_result"
    }
   ],
   "source": [
    "# Generate simulated data and get the last few rows\n",
    "export_df = simulate_refill_history()\n",
    "\n",
    "# Display the last few rows of the simulated data\n",
    "export_df.tail()"
   ]
  },
  {
   "cell_type": "code",
   "execution_count": null,
   "id": "a18f54cb-f905-4cab-b654-26250aa95739",
   "metadata": {},
   "outputs": [],
   "source": []
  }
 ],
 "metadata": {
  "kernelspec": {
   "display_name": "Python 3 (ipykernel)",
   "language": "python",
   "name": "python3"
  },
  "language_info": {
   "codemirror_mode": {
    "name": "ipython",
    "version": 3
   },
   "file_extension": ".py",
   "mimetype": "text/x-python",
   "name": "python",
   "nbconvert_exporter": "python",
   "pygments_lexer": "ipython3",
   "version": "3.12.7"
  }
 },
 "nbformat": 4,
 "nbformat_minor": 5
}
